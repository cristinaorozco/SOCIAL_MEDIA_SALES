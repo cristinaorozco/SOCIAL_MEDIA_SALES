{
 "cells": [
  {
   "cell_type": "markdown",
   "metadata": {},
   "source": [
    "The marketing and advertising team wants to know in which media the sales have performed best and they want a sales prediction with the best possible scenario avoiding to exceed the weekly historical costs in advertising on social media."
   ]
  },
  {
   "cell_type": "markdown",
   "metadata": {},
   "source": [
    "Let's import our dataset:"
   ]
  },
  {
   "cell_type": "code",
   "execution_count": 2,
   "metadata": {},
   "outputs": [],
   "source": [
    "import pandas as pd\n",
    "data_ads = pd.read_excel(\"C:/Users/CRISTINA/Documents/PORTFOLIO/Project Social Media/Social Media Advertising.xlsx\")"
   ]
  },
  {
   "cell_type": "markdown",
   "metadata": {},
   "source": [
    "Let's see the size of our dataset:"
   ]
  },
  {
   "cell_type": "code",
   "execution_count": 3,
   "metadata": {},
   "outputs": [
    {
     "name": "stdout",
     "output_type": "stream",
     "text": [
      "(200, 7)\n"
     ]
    }
   ],
   "source": [
    "print(data_ads.shape)"
   ]
  },
  {
   "cell_type": "markdown",
   "metadata": {},
   "source": [
    "Let's see part of the content of our dataset to know it:"
   ]
  },
  {
   "cell_type": "code",
   "execution_count": 4,
   "metadata": {},
   "outputs": [
    {
     "name": "stdout",
     "output_type": "stream",
     "text": [
      "   PERIOD     MONTH  YEAR  YOUTUBE  INSTAGRAM  FACEBOOK  SALES\n",
      "0  WEEK 1  FEBRUARY  2015     69.2       37.8     230.1   22.1\n",
      "1  WEEK 2  FEBRUARY  2015     45.1       39.3      44.5   10.4\n",
      "2  WEEK 3  FEBRUARY  2015     69.3       45.9      17.2    9.3\n",
      "3  WEEK 4  FEBRUARY  2015     58.5       41.3     151.5   18.5\n",
      "4  WEEK 1     MARCH  2015     58.4       10.8     180.8   12.9\n",
      "5  WEEK 2     MARCH  2015     75.0       48.9       8.7    7.2\n",
      "6  WEEK 3     MARCH  2015     23.5       32.8      57.5   11.8\n",
      "7  WEEK 4     MARCH  2015     11.6       19.6     120.2   13.2\n",
      "8  WEEK 1     APRIL  2015      1.0        2.1       8.6    4.8\n",
      "9  WEEK 2     APRIL  2015     21.2        2.6     199.8   10.6\n"
     ]
    }
   ],
   "source": [
    "print(data_ads.head(10))"
   ]
  },
  {
   "cell_type": "code",
   "execution_count": 5,
   "metadata": {},
   "outputs": [
    {
     "data": {
      "text/html": [
       "<div>\n",
       "<style scoped>\n",
       "    .dataframe tbody tr th:only-of-type {\n",
       "        vertical-align: middle;\n",
       "    }\n",
       "\n",
       "    .dataframe tbody tr th {\n",
       "        vertical-align: top;\n",
       "    }\n",
       "\n",
       "    .dataframe thead th {\n",
       "        text-align: right;\n",
       "    }\n",
       "</style>\n",
       "<table border=\"1\" class=\"dataframe\">\n",
       "  <thead>\n",
       "    <tr style=\"text-align: right;\">\n",
       "      <th></th>\n",
       "      <th>PERIOD</th>\n",
       "      <th>MONTH</th>\n",
       "      <th>YEAR</th>\n",
       "      <th>YOUTUBE</th>\n",
       "      <th>INSTAGRAM</th>\n",
       "      <th>FACEBOOK</th>\n",
       "      <th>SALES</th>\n",
       "    </tr>\n",
       "  </thead>\n",
       "  <tbody>\n",
       "    <tr>\n",
       "      <td>195</td>\n",
       "      <td>WEEK 4</td>\n",
       "      <td>FEBRUARY</td>\n",
       "      <td>2019</td>\n",
       "      <td>13.8</td>\n",
       "      <td>3.7</td>\n",
       "      <td>38.2</td>\n",
       "      <td>7.6</td>\n",
       "    </tr>\n",
       "    <tr>\n",
       "      <td>196</td>\n",
       "      <td>WEEK 1</td>\n",
       "      <td>MARCH</td>\n",
       "      <td>2019</td>\n",
       "      <td>8.1</td>\n",
       "      <td>4.9</td>\n",
       "      <td>94.2</td>\n",
       "      <td>9.7</td>\n",
       "    </tr>\n",
       "    <tr>\n",
       "      <td>197</td>\n",
       "      <td>WEEK 2</td>\n",
       "      <td>MARCH</td>\n",
       "      <td>2019</td>\n",
       "      <td>6.4</td>\n",
       "      <td>9.3</td>\n",
       "      <td>177.0</td>\n",
       "      <td>12.8</td>\n",
       "    </tr>\n",
       "    <tr>\n",
       "      <td>198</td>\n",
       "      <td>WEEK 3</td>\n",
       "      <td>MARCH</td>\n",
       "      <td>2019</td>\n",
       "      <td>66.2</td>\n",
       "      <td>42.0</td>\n",
       "      <td>283.6</td>\n",
       "      <td>25.5</td>\n",
       "    </tr>\n",
       "    <tr>\n",
       "      <td>199</td>\n",
       "      <td>WEEK 4</td>\n",
       "      <td>MARCH</td>\n",
       "      <td>2019</td>\n",
       "      <td>8.7</td>\n",
       "      <td>8.6</td>\n",
       "      <td>232.1</td>\n",
       "      <td>13.4</td>\n",
       "    </tr>\n",
       "  </tbody>\n",
       "</table>\n",
       "</div>"
      ],
      "text/plain": [
       "     PERIOD     MONTH  YEAR  YOUTUBE  INSTAGRAM  FACEBOOK  SALES\n",
       "195  WEEK 4  FEBRUARY  2019     13.8        3.7      38.2    7.6\n",
       "196  WEEK 1     MARCH  2019      8.1        4.9      94.2    9.7\n",
       "197  WEEK 2     MARCH  2019      6.4        9.3     177.0   12.8\n",
       "198  WEEK 3     MARCH  2019     66.2       42.0     283.6   25.5\n",
       "199  WEEK 4     MARCH  2019      8.7        8.6     232.1   13.4"
      ]
     },
     "execution_count": 5,
     "metadata": {},
     "output_type": "execute_result"
    }
   ],
   "source": [
    "data_ads.tail()"
   ]
  },
  {
   "cell_type": "code",
   "execution_count": 6,
   "metadata": {},
   "outputs": [
    {
     "name": "stdout",
     "output_type": "stream",
     "text": [
      "              YEAR     YOUTUBE   INSTAGRAM    FACEBOOK       SALES\n",
      "count   200.000000  200.000000  200.000000  200.000000  200.000000\n",
      "mean   2016.680000   30.554000   23.264000  147.042500   14.022500\n",
      "std       1.226836   21.778621   14.846809   85.854236    5.217457\n",
      "min    2015.000000    0.300000    0.000000    0.700000    1.600000\n",
      "25%    2016.000000   12.750000    9.975000   74.375000   10.375000\n",
      "50%    2017.000000   25.750000   22.900000  149.750000   12.900000\n",
      "75%    2018.000000   45.100000   36.525000  218.825000   17.400000\n",
      "max    2019.000000  114.000000   49.600000  296.400000   27.000000\n"
     ]
    }
   ],
   "source": [
    "print(data_ads.describe())"
   ]
  },
  {
   "cell_type": "markdown",
   "metadata": {},
   "source": [
    "When executing the previous function, we note that the lowest value of weekly sales during the analyzed period was  1.6 and the highest value was 27"
   ]
  },
  {
   "cell_type": "markdown",
   "metadata": {},
   "source": [
    "Let's see the correlation that exists between sales and each of the variables:"
   ]
  },
  {
   "cell_type": "code",
   "execution_count": 9,
   "metadata": {},
   "outputs": [
    {
     "data": {
      "text/plain": [
       "[<matplotlib.lines.Line2D at 0x1d7522a72c8>]"
      ]
     },
     "execution_count": 9,
     "metadata": {},
     "output_type": "execute_result"
    },
    {
     "data": {
      "image/png": "[encoded data removed]",
      "text/plain": [
       "<Figure size 432x288 with 1 Axes>"
      ]
     },
     "metadata": {
      "needs_background": "light"
     },
     "output_type": "display_data"
    }
   ],
   "source": [
    "import matplotlib.pyplot as plt\n",
    "plt.plot(data_ads[\"YOUTUBE\"], data_ads[\"SALES\"], \"ro\")"
   ]
  },
  {
   "cell_type": "code",
   "execution_count": 10,
   "metadata": {},
   "outputs": [
    {
     "data": {
      "text/plain": [
       "[<matplotlib.lines.Line2D at 0x1d752329a88>]"
      ]
     },
     "execution_count": 10,
     "metadata": {},
     "output_type": "execute_result"
    },
    {
     "data": {
      "image/png": "[encoded data removed]",
      "text/plain": [
       "<Figure size 432x288 with 1 Axes>"
      ]
     },
     "metadata": {
      "needs_background": "light"
     },
     "output_type": "display_data"
    }
   ],
   "source": [
    "plt.plot(data_ads[\"INSTAGRAM\"], data_ads[\"SALES\"], \"bo\")"
   ]
  },
  {
   "cell_type": "code",
   "execution_count": 11,
   "metadata": {},
   "outputs": [
    {
     "data": {
      "text/plain": [
       "[<matplotlib.lines.Line2D at 0x1d752391748>]"
      ]
     },
     "execution_count": 11,
     "metadata": {},
     "output_type": "execute_result"
    },
    {
     "data": {
      "image/png": "[encoded data removed]",
      "text/plain": [
       "<Figure size 432x288 with 1 Axes>"
      ]
     },
     "metadata": {
      "needs_background": "light"
     },
     "output_type": "display_data"
    }
   ],
   "source": [
    "plt.plot(data_ads[\"FACEBOOK\"], data_ads[\"SALES\"], \"go\")"
   ]
  },
  {
   "cell_type": "markdown",
   "metadata": {},
   "source": [
    "In the different scatter charts we saw that there seems to be a significant correlation between sales and variables such as facebook and instagram. While the correlation between sales and YouTube seems to be weak. To be more sure, let's check it with a correlation matrix:"
   ]
  },
  {
   "cell_type": "code",
   "execution_count": 13,
   "metadata": {},
   "outputs": [
    {
     "data": {
      "text/html": [
       "<div>\n",
       "<style scoped>\n",
       "    .dataframe tbody tr th:only-of-type {\n",
       "        vertical-align: middle;\n",
       "    }\n",
       "\n",
       "    .dataframe tbody tr th {\n",
       "        vertical-align: top;\n",
       "    }\n",
       "\n",
       "    .dataframe thead th {\n",
       "        text-align: right;\n",
       "    }\n",
       "</style>\n",
       "<table border=\"1\" class=\"dataframe\">\n",
       "  <thead>\n",
       "    <tr style=\"text-align: right;\">\n",
       "      <th></th>\n",
       "      <th>YEAR</th>\n",
       "      <th>YOUTUBE</th>\n",
       "      <th>INSTAGRAM</th>\n",
       "      <th>FACEBOOK</th>\n",
       "      <th>SALES</th>\n",
       "    </tr>\n",
       "  </thead>\n",
       "  <tbody>\n",
       "    <tr>\n",
       "      <td>YEAR</td>\n",
       "      <td>1.000000</td>\n",
       "      <td>-0.136720</td>\n",
       "      <td>-0.107817</td>\n",
       "      <td>0.016251</td>\n",
       "      <td>-0.043382</td>\n",
       "    </tr>\n",
       "    <tr>\n",
       "      <td>YOUTUBE</td>\n",
       "      <td>-0.136720</td>\n",
       "      <td>1.000000</td>\n",
       "      <td>0.354104</td>\n",
       "      <td>0.056648</td>\n",
       "      <td>0.228299</td>\n",
       "    </tr>\n",
       "    <tr>\n",
       "      <td>INSTAGRAM</td>\n",
       "      <td>-0.107817</td>\n",
       "      <td>0.354104</td>\n",
       "      <td>1.000000</td>\n",
       "      <td>0.054809</td>\n",
       "      <td>0.576223</td>\n",
       "    </tr>\n",
       "    <tr>\n",
       "      <td>FACEBOOK</td>\n",
       "      <td>0.016251</td>\n",
       "      <td>0.056648</td>\n",
       "      <td>0.054809</td>\n",
       "      <td>1.000000</td>\n",
       "      <td>0.782224</td>\n",
       "    </tr>\n",
       "    <tr>\n",
       "      <td>SALES</td>\n",
       "      <td>-0.043382</td>\n",
       "      <td>0.228299</td>\n",
       "      <td>0.576223</td>\n",
       "      <td>0.782224</td>\n",
       "      <td>1.000000</td>\n",
       "    </tr>\n",
       "  </tbody>\n",
       "</table>\n",
       "</div>"
      ],
      "text/plain": [
       "               YEAR   YOUTUBE  INSTAGRAM  FACEBOOK     SALES\n",
       "YEAR       1.000000 -0.136720  -0.107817  0.016251 -0.043382\n",
       "YOUTUBE   -0.136720  1.000000   0.354104  0.056648  0.228299\n",
       "INSTAGRAM -0.107817  0.354104   1.000000  0.054809  0.576223\n",
       "FACEBOOK   0.016251  0.056648   0.054809  1.000000  0.782224\n",
       "SALES     -0.043382  0.228299   0.576223  0.782224  1.000000"
      ]
     },
     "execution_count": 13,
     "metadata": {},
     "output_type": "execute_result"
    }
   ],
   "source": [
    "data_ads.corr()"
   ]
  },
  {
   "cell_type": "markdown",
   "metadata": {},
   "source": [
    "We found that does exist a strong positive correlation between Facebook and sales. We also see good behavior when it comes to Instagram."
   ]
  },
  {
   "cell_type": "markdown",
   "metadata": {},
   "source": [
    "Let's check by means of a linear regression which variables are the ones that best behave with respect to sales:"
   ]
  },
  {
   "cell_type": "code",
   "execution_count": 14,
   "metadata": {},
   "outputs": [],
   "source": [
    "from sklearn.feature_selection import RFE\n",
    "from sklearn.svm import SVR\n",
    "import pandas as pd"
   ]
  },
  {
   "cell_type": "code",
   "execution_count": 15,
   "metadata": {},
   "outputs": [],
   "source": [
    "data_ads = pd.read_excel(\"C:/Users/CRISTINA/Documents/PORTFOLIO/Project Social Media/Social Media Advertising.xlsx\")"
   ]
  },
  {
   "cell_type": "code",
   "execution_count": 16,
   "metadata": {},
   "outputs": [],
   "source": [
    "feature_cols = [\"YOUTUBE\", \"INSTAGRAM\", \"FACEBOOK\"]"
   ]
  },
  {
   "cell_type": "code",
   "execution_count": 17,
   "metadata": {},
   "outputs": [],
   "source": [
    "X = data_ads[feature_cols]\n",
    "Y = data_ads[\"SALES\"]"
   ]
  },
  {
   "cell_type": "code",
   "execution_count": 18,
   "metadata": {},
   "outputs": [],
   "source": [
    "estimator = SVR(kernel=\"linear\")\n",
    "selector = RFE(estimator, 2, step=1)\n",
    "selector = selector.fit(X,Y)"
   ]
  },
  {
   "cell_type": "code",
   "execution_count": 19,
   "metadata": {},
   "outputs": [
    {
     "data": {
      "text/plain": [
       "array([False,  True,  True])"
      ]
     },
     "execution_count": 19,
     "metadata": {},
     "output_type": "execute_result"
    }
   ],
   "source": [
    "selector.support_"
   ]
  },
  {
   "cell_type": "markdown",
   "metadata": {},
   "source": [
    "Our model discards YouTube and shows us that the variables that best fit are Instagram and Facebook."
   ]
  },
  {
   "cell_type": "markdown",
   "metadata": {},
   "source": [
    "Let's see what was the maximum value of weekly advertising costs, so that our marketing team takes it into account"
   ]
  },
  {
   "cell_type": "code",
   "execution_count": 2,
   "metadata": {},
   "outputs": [
    {
     "name": "stdout",
     "output_type": "stream",
     "text": [
      "     PERIOD     MONTH  YEAR  YOUTUBE  INSTAGRAM  FACEBOOK  SALES  \\\n",
      "0    WEEK 1  FEBRUARY  2015     69.2       37.8     230.1   22.1   \n",
      "1    WEEK 2  FEBRUARY  2015     45.1       39.3      44.5   10.4   \n",
      "2    WEEK 3  FEBRUARY  2015     69.3       45.9      17.2    9.3   \n",
      "3    WEEK 4  FEBRUARY  2015     58.5       41.3     151.5   18.5   \n",
      "4    WEEK 1     MARCH  2015     58.4       10.8     180.8   12.9   \n",
      "..      ...       ...   ...      ...        ...       ...    ...   \n",
      "195  WEEK 4  FEBRUARY  2019     13.8        3.7      38.2    7.6   \n",
      "196  WEEK 1     MARCH  2019      8.1        4.9      94.2    9.7   \n",
      "197  WEEK 2     MARCH  2019      6.4        9.3     177.0   12.8   \n",
      "198  WEEK 3     MARCH  2019     66.2       42.0     283.6   25.5   \n",
      "199  WEEK 4     MARCH  2019      8.7        8.6     232.1   13.4   \n",
      "\n",
      "     TOTAL WEEKLY ADVERTISING  \n",
      "0                       337.1  \n",
      "1                       128.9  \n",
      "2                       132.4  \n",
      "3                       251.3  \n",
      "4                       250.0  \n",
      "..                        ...  \n",
      "195                      55.7  \n",
      "196                     107.2  \n",
      "197                     192.7  \n",
      "198                     391.8  \n",
      "199                     249.4  \n",
      "\n",
      "[200 rows x 8 columns]\n"
     ]
    }
   ],
   "source": [
    "import pandas as pd\n",
    "df = pd.read_excel(\"C:/Users/CRISTINA/Documents/PORTFOLIO/Project Social Media/Social Media Advertising.xlsx\")\n",
    "sum_column = df[\"YOUTUBE\"] + df[\"INSTAGRAM\"] + df[\"FACEBOOK\"]\n",
    "df[\"TOTAL WEEKLY ADVERTISING\"] = sum_column\n",
    "print(df)"
   ]
  },
  {
   "cell_type": "code",
   "execution_count": 3,
   "metadata": {},
   "outputs": [
    {
     "name": "stdout",
     "output_type": "stream",
     "text": [
      "              YEAR     YOUTUBE   INSTAGRAM    FACEBOOK       SALES  \\\n",
      "count   200.000000  200.000000  200.000000  200.000000  200.000000   \n",
      "mean   2016.680000   30.554000   23.264000  147.042500   14.022500   \n",
      "std       1.226836   21.778621   14.846809   85.854236    5.217457   \n",
      "min    2015.000000    0.300000    0.000000    0.700000    1.600000   \n",
      "25%    2016.000000   12.750000    9.975000   74.375000   10.375000   \n",
      "50%    2017.000000   25.750000   22.900000  149.750000   12.900000   \n",
      "75%    2018.000000   45.100000   36.525000  218.825000   17.400000   \n",
      "max    2019.000000  114.000000   49.600000  296.400000   27.000000   \n",
      "\n",
      "       TOTAL WEEKLY ADVERTISING  \n",
      "count                200.000000  \n",
      "mean                 200.860500  \n",
      "std                   92.985181  \n",
      "min                   11.700000  \n",
      "25%                  123.550000  \n",
      "50%                  207.350000  \n",
      "75%                  281.125000  \n",
      "max                  433.600000  \n"
     ]
    }
   ],
   "source": [
    "df = pd.read_excel(\"C:/Users/CRISTINA/Documents/PORTFOLIO/Project Social Media/Social Media Advertising.xlsx\")\n",
    "sum_column = df[\"YOUTUBE\"] + df[\"INSTAGRAM\"] + df[\"FACEBOOK\"]\n",
    "df[\"TOTAL WEEKLY ADVERTISING\"] = sum_column\n",
    "print(df.describe())"
   ]
  },
  {
   "cell_type": "markdown",
   "metadata": {},
   "source": [
    "We must bear in mind that weekly advertising costs should not be greater than $433,6"
   ]
  },
  {
   "cell_type": "markdown",
   "metadata": {},
   "source": [
    "Now let's build our model with the two variables that best fit (Instagram and Facebook)"
   ]
  },
  {
   "cell_type": "code",
   "execution_count": 20,
   "metadata": {},
   "outputs": [],
   "source": [
    "from sklearn.linear_model import LinearRegression"
   ]
  },
  {
   "cell_type": "code",
   "execution_count": 21,
   "metadata": {},
   "outputs": [],
   "source": [
    "X_pred = X[[\"INSTAGRAM\", \"FACEBOOK\"]]"
   ]
  },
  {
   "cell_type": "code",
   "execution_count": 22,
   "metadata": {},
   "outputs": [
    {
     "data": {
      "text/plain": [
       "LinearRegression(copy_X=True, fit_intercept=True, n_jobs=None, normalize=False)"
      ]
     },
     "execution_count": 22,
     "metadata": {},
     "output_type": "execute_result"
    }
   ],
   "source": [
    "lm = LinearRegression()\n",
    "lm.fit(X_pred, Y)"
   ]
  },
  {
   "cell_type": "code",
   "execution_count": 23,
   "metadata": {},
   "outputs": [
    {
     "data": {
      "text/plain": [
       "2.9210999124051398"
      ]
     },
     "execution_count": 23,
     "metadata": {},
     "output_type": "execute_result"
    }
   ],
   "source": [
    "lm.intercept_"
   ]
  },
  {
   "cell_type": "code",
   "execution_count": 24,
   "metadata": {},
   "outputs": [
    {
     "data": {
      "text/plain": [
       "array([0.18799423, 0.04575482])"
      ]
     },
     "execution_count": 24,
     "metadata": {},
     "output_type": "execute_result"
    }
   ],
   "source": [
    "lm.coef_"
   ]
  },
  {
   "cell_type": "code",
   "execution_count": 27,
   "metadata": {},
   "outputs": [
    {
     "data": {
      "text/plain": [
       "0.8971942610828956"
      ]
     },
     "execution_count": 27,
     "metadata": {},
     "output_type": "execute_result"
    }
   ],
   "source": [
    "lm.score(X_pred, Y)"
   ]
  },
  {
   "cell_type": "markdown",
   "metadata": {},
   "source": [
    "When analyzing the coefficient of determination we verify that there is a strong linear relationship"
   ]
  },
  {
   "cell_type": "markdown",
   "metadata": {},
   "source": [
    "This would be the formula to predict sales with our model:"
   ]
  },
  {
   "cell_type": "markdown",
   "metadata": {},
   "source": [
    "Sales: 2.9210999124051398 + 0.18799423 (Weekly costs Instagram) + 0.04575482 (Weekly cost Facebook)"
   ]
  },
  {
   "cell_type": "markdown",
   "metadata": {},
   "source": [
    "The above linear regression is the most optimal model, and it will allow our marketing team to know in advance how much the estimated sales will be according to the costs that they decide to allocate weekly on Instagram and Facebook."
   ]
  }
 ],
 "metadata": {
  "kernelspec": {
   "display_name": "Python 3",
   "language": "python",
   "name": "python3"
  },
  "language_info": {
   "codemirror_mode": {
    "name": "ipython",
    "version": 3
   },
   "file_extension": ".py",
   "mimetype": "text/x-python",
   "name": "python",
   "nbconvert_exporter": "python",
   "pygments_lexer": "ipython3",
   "version": "3.7.4"
  }
 },
 "nbformat": 4,
 "nbformat_minor": 2
}
